{
 "cells": [
  {
   "cell_type": "markdown",
   "metadata": {},
   "source": [
    "# word2vec介绍：语句情感分析"
   ]
  },
  {
   "cell_type": "markdown",
   "metadata": {},
   "source": [
    "之前的文章，我们了解了word2vec的原理和实现，这篇文章讲一讲应用，以语句情感分析为例。我们使用斯坦福大学标记好的数据进行情感分析，下面是整个分析过程。\n",
    "\n",
    "文末有完整代码的链接。"
   ]
  },
  {
   "cell_type": "markdown",
   "metadata": {},
   "source": [
    "## 准备数据"
   ]
  },
  {
   "cell_type": "markdown",
   "metadata": {},
   "source": [
    "首先我们来看看本文即将使用的使用的格式。"
   ]
  },
  {
   "cell_type": "code",
   "execution_count": 54,
   "metadata": {},
   "outputs": [],
   "source": [
    "# 读取数据\n",
    "dataset = StanfordSentiment()\n",
    "tokens = dataset.tokens()\n",
    "nWords = len(tokens)"
   ]
  },
  {
   "cell_type": "code",
   "execution_count": 55,
   "metadata": {},
   "outputs": [],
   "source": [
    "#读取WordVectors数据\n",
    "wordVectors = glove.loadWordVectors(tokens)"
   ]
  },
  {
   "cell_type": "code",
   "execution_count": 56,
   "metadata": {},
   "outputs": [],
   "source": [
    "dimVectors = wordVectors.shape[1]"
   ]
  },
  {
   "cell_type": "code",
   "execution_count": 57,
   "metadata": {},
   "outputs": [],
   "source": [
    "trainset = dataset.getTrainSentences() # 读取训练数据\n",
    "nTrain = len(trainset) # 得到训练数据大小\n",
    "trainFeatures = np.zeros((nTrain, dimVectors)) # 初始化训练数据\n",
    "trainLabels = np.zeros((nTrain,), dtype=np.int32) # 初始化训练数据标签"
   ]
  },
  {
   "cell_type": "markdown",
   "metadata": {},
   "source": [
    "查看其中一条数据"
   ]
  },
  {
   "cell_type": "code",
   "execution_count": 58,
   "metadata": {},
   "outputs": [
    {
     "data": {
      "text/plain": [
       "(['good',\n",
       "  'fun',\n",
       "  ',',\n",
       "  'good',\n",
       "  'action',\n",
       "  ',',\n",
       "  'good',\n",
       "  'acting',\n",
       "  ',',\n",
       "  'good',\n",
       "  'dialogue',\n",
       "  ',',\n",
       "  'good',\n",
       "  'pace',\n",
       "  ',',\n",
       "  'good',\n",
       "  'cinematography',\n",
       "  '.'],\n",
       " 4)"
      ]
     },
     "execution_count": 58,
     "metadata": {},
     "output_type": "execute_result"
    }
   ],
   "source": [
    "#查看训练集中的数据，以第10条数据为例，\n",
    "trainset[10]"
   ]
  },
  {
   "cell_type": "markdown",
   "metadata": {},
   "source": [
    "可见，训练数据是一个tuple类型数据，由两部分组成。\n",
    "第一部分是由句子的单词和标点符号组成的列表。\n",
    "第二部分是一个数字，对于`trainset[10]`来说是4."
   ]
  },
  {
   "cell_type": "code",
   "execution_count": 63,
   "metadata": {},
   "outputs": [
    {
     "name": "stdout",
     "output_type": "stream",
     "text": [
      "第10条句子的情感标签是:4\n"
     ]
    }
   ],
   "source": [
    "#查看训练数据的情感标签\n",
    "print(\"第10条句子的情感标签是:%d\"%trainset[10][1])"
   ]
  },
  {
   "cell_type": "markdown",
   "metadata": {},
   "source": [
    "4代表该条数据的情感标签。根据我们的编码，用0-4分别代表“非常消极”、“消极”、“中立”、“积极”、“非常积极”五种情绪。所以这里的4代表“非常积极”，观察句子中的单词如“good fun”、\"good action\"等，确实都传达了非常积极的情绪。"
   ]
  },
  {
   "cell_type": "markdown",
   "metadata": {},
   "source": [
    "## 训练集"
   ]
  },
  {
   "cell_type": "markdown",
   "metadata": {},
   "source": [
    "我们的目的是对句子进行情感分析，首先第一步是得到句向量，这里采用简单的求句子中的所有词向量的均值作为句向量。"
   ]
  },
  {
   "cell_type": "code",
   "execution_count": 71,
   "metadata": {},
   "outputs": [],
   "source": [
    "#返回句向量\n",
    "def getSentenceFeatures(tokens, wordVectors, sentence):\n",
    "    sentVector = np.zeros((wordVectors.shape[1],))\n",
    "    \n",
    "    #句子中所有词向量的均值作为句向量\n",
    "    for s in sentence:\n",
    "        sentVector += wordVectors[tokens[s], :]\n",
    "    sentVector *= 1.0 / len(sentence)\n",
    "\n",
    "    #异常: 维度错误\n",
    "    assert sentVector.shape == (wordVectors.shape[1],)\n",
    "    return sentVector"
   ]
  },
  {
   "cell_type": "code",
   "execution_count": 72,
   "metadata": {},
   "outputs": [],
   "source": [
    "#得到训练集特征和标签\n",
    "for i in xrange(nTrain):\n",
    "    words, trainLabels[i] = trainset[i]\n",
    "    trainFeatures[i, :] = getSentenceFeatures(tokens, wordVectors, words)"
   ]
  },
  {
   "cell_type": "code",
   "execution_count": 73,
   "metadata": {},
   "outputs": [
    {
     "name": "stdout",
     "output_type": "stream",
     "text": [
      "[-0.16387972  0.20204722 -0.47888633 -0.02866439  0.59194327 -0.00511122\n",
      " -0.251245   -0.24204667 -0.19511567  0.28125222 -0.06910394  0.24802711\n",
      " -0.44788167 -0.06569694  0.25088556  0.00449078  0.43044278  0.1269115\n",
      " -0.1807188  -0.45737333 -0.01543883  0.56428061  0.23471494 -0.08217072\n",
      "  0.49469244 -1.34156167 -0.27914839  0.04475539  0.30786586 -0.22476379\n",
      "  3.295855    0.3423513  -0.1358725  -0.25282167  0.08905994 -0.05950239\n",
      " -0.09389856  0.47957611  0.10088722 -0.21478967 -0.08732637  0.33898479\n",
      " -0.09445356 -0.19614556  0.06076611  0.10367686  0.00907689 -0.04100611\n",
      "  0.10756272  0.62726003]\n",
      "情感标签：4\n"
     ]
    }
   ],
   "source": [
    "print(trainFeatures[10])\n",
    "print(\"情感标签：%d\"%trainLabels[10])"
   ]
  },
  {
   "cell_type": "markdown",
   "metadata": {},
   "source": [
    "以上就是训练集中第10条数据的句向量和情感标签，因为我们导入的词向量是glove算法得到的50维词向量，因此句向量的维度也是50.   "
   ]
  },
  {
   "cell_type": "markdown",
   "metadata": {},
   "source": [
    "## 开发集"
   ]
  },
  {
   "cell_type": "markdown",
   "metadata": {},
   "source": [
    "接下来我们准备开发集，开发集用于对算法进行交叉验证，进而筛选得到最优算法。"
   ]
  },
  {
   "cell_type": "code",
   "execution_count": 74,
   "metadata": {},
   "outputs": [],
   "source": [
    "# Prepare dev set features\n",
    "devset = dataset.getDevSentences() #得到开发集的句子\n",
    "nDev = len(devset) # 开发集大小\n",
    "devFeatures = np.zeros((nDev, dimVectors)) #初始化开发集\n",
    "devLabels = np.zeros((nDev,), dtype=np.int32)#初始化开发集标签\n",
    "\n",
    "#得到开发集的句向量\n",
    "for i in xrange(nDev):\n",
    "    words, devLabels[i] = devset[i]\n",
    "    devFeatures[i, :] = getSentenceFeatures(tokens, wordVectors, words)"
   ]
  },
  {
   "cell_type": "markdown",
   "metadata": {},
   "source": [
    "同样我们看一下开发集中第250条数据的句向量和标签"
   ]
  },
  {
   "cell_type": "code",
   "execution_count": 75,
   "metadata": {},
   "outputs": [
    {
     "name": "stdout",
     "output_type": "stream",
     "text": [
      "[  4.81241556e-01   1.40070000e-02   6.92502222e-02  -6.86841111e-02\n",
      "   4.31634444e-01   1.95371567e-01  -3.21193556e-01   6.51922222e-02\n",
      "  -1.24563333e-01   2.06758111e-01  -1.91932222e-01   2.11828111e-01\n",
      "  -3.29489444e-01   2.38200000e-02   4.95806667e-01   2.76432222e-01\n",
      "   3.40766667e-01  -1.33433333e-03  -1.23777444e-01  -6.73770000e-01\n",
      "  -1.18427778e-02   4.39728222e-01   2.62109111e-01   2.00073567e-01\n",
      "   4.51153111e-01  -1.50233000e+00  -4.97133333e-01   1.49537333e-01\n",
      "   4.91483333e-01  -5.09132222e-01   2.88996222e+00   1.70082044e-01\n",
      "  -3.43100000e-01  -3.52352111e-01   1.29942333e-01  -2.36533333e-02\n",
      "  -2.04228889e-01   2.76246778e-01   1.02244222e-01  -4.55481889e-01\n",
      "   3.13804799e-02   2.57222000e-01   2.39707667e-01   2.63615556e-02\n",
      "  -4.27062222e-02   1.86264556e-01   1.79544333e-01  -7.92555556e-04\n",
      "  -6.18602111e-02   1.87534444e-01]\n",
      "情感标签：4\n"
     ]
    }
   ],
   "source": [
    "print(devFeatures[250])\n",
    "print(\"情感标签：%d\"%devLabels[250])"
   ]
  },
  {
   "cell_type": "markdown",
   "metadata": {},
   "source": [
    "## 测试集"
   ]
  },
  {
   "cell_type": "markdown",
   "metadata": {},
   "source": [
    "准备测试集。"
   ]
  },
  {
   "cell_type": "code",
   "execution_count": 77,
   "metadata": {},
   "outputs": [],
   "source": [
    "# Prepare test set features\n",
    "testset = dataset.getTestSentences()\n",
    "nTest = len(testset)\n",
    "testFeatures = np.zeros((nTest, dimVectors))\n",
    "testLabels = np.zeros((nTest,), dtype=np.int32)\n",
    "for i in xrange(nTest):\n",
    "    words, testLabels[i] = testset[i]\n",
    "    testFeatures[i, :] = getSentenceFeatures(tokens, wordVectors, words)"
   ]
  },
  {
   "cell_type": "markdown",
   "metadata": {},
   "source": [
    "## 模型"
   ]
  },
  {
   "cell_type": "markdown",
   "metadata": {},
   "source": [
    "有了数据集和标签，现在问题转化常规的监督学习问题。我们可以使用监督学习的算法包括逻辑回归、朴素贝叶斯、决策树等。"
   ]
  },
  {
   "cell_type": "markdown",
   "metadata": {},
   "source": [
    "### 正则项参数"
   ]
  },
  {
   "cell_type": "markdown",
   "metadata": {},
   "source": [
    "为了防止过拟合，增加模型的泛化能力，我们采取简单有效的方法，增加正则项。`getRegularizationValues()`函数用来生成正则项的参数$\\lambda$，以列表的形式保存在参数`values`中。"
   ]
  },
  {
   "cell_type": "code",
   "execution_count": 87,
   "metadata": {},
   "outputs": [],
   "source": [
    "def getRegularizationValues():\n",
    "    \"\"\"\n",
    "    返回一个正则项参数的列表.\n",
    "    \"\"\"\n",
    "    values = None  # Assign a list of floats in the block below\n",
    "    values = np.logspace(-4, 2, num=100, base=10)\n",
    "\n",
    "    return sorted(values)"
   ]
  },
  {
   "cell_type": "code",
   "execution_count": 79,
   "metadata": {},
   "outputs": [
    {
     "data": {
      "text/plain": [
       "[0.0001,\n",
       " 0.00011497569953977356,\n",
       " 0.00013219411484660288,\n",
       " 0.00015199110829529331,\n",
       " 0.00017475284000076829]"
      ]
     },
     "execution_count": 79,
     "metadata": {},
     "output_type": "execute_result"
    }
   ],
   "source": [
    "getRegularizationValues()[0:5]"
   ]
  },
  {
   "cell_type": "markdown",
   "metadata": {},
   "source": [
    "通过生成等比数列的方式，我们能够得到数值范围为$[10^{-4}, 10^2]$的100个值，上面的结果显示了其中前5个值。"
   ]
  },
  {
   "cell_type": "markdown",
   "metadata": {},
   "source": [
    "后面我们将循环测试这100个超参数，以得到最优的正则化参数$\\lambda$。"
   ]
  },
  {
   "cell_type": "markdown",
   "metadata": {},
   "source": [
    "### 训练模型"
   ]
  },
  {
   "cell_type": "markdown",
   "metadata": {},
   "source": [
    "下面我们选取一个正则项参数进行模型测试，选用的是逻辑回归模型。"
   ]
  },
  {
   "cell_type": "code",
   "execution_count": 86,
   "metadata": {},
   "outputs": [],
   "source": [
    "reg = regValues[10] #正则项参数"
   ]
  },
  {
   "cell_type": "code",
   "execution_count": 85,
   "metadata": {},
   "outputs": [
    {
     "data": {
      "text/plain": [
       "LogisticRegression(C=2477.076349855804, class_weight=None, dual=False,\n",
       "          fit_intercept=True, intercept_scaling=1, max_iter=100,\n",
       "          multi_class='ovr', n_jobs=1, penalty='l2', random_state=None,\n",
       "          solver='liblinear', tol=0.0001, verbose=0, warm_start=False)"
      ]
     },
     "execution_count": 85,
     "metadata": {},
     "output_type": "execute_result"
    }
   ],
   "source": [
    "clf = LogisticRegression(C=1.0 / (reg + 1e-12)) #生成模型\n",
    "clf.fit(trainFeatures, trainLabels) #训练模型"
   ]
  },
  {
   "cell_type": "markdown",
   "metadata": {},
   "source": [
    "`LogisticRegression`的参数C是正则项$\\lambda$的倒数，正则项越大，C越小，惩罚效果越强。另外这里分母与一个非常小的正数相加避免出现分母为0的情况。\n",
    "接下来在训练集上测试。"
   ]
  },
  {
   "cell_type": "code",
   "execution_count": 89,
   "metadata": {},
   "outputs": [],
   "source": [
    "# 在训练集上测试\n",
    "pred = clf.predict(trainFeatures)"
   ]
  },
  {
   "cell_type": "markdown",
   "metadata": {},
   "source": [
    "使用准确率作为算法性能的衡量标准。"
   ]
  },
  {
   "cell_type": "code",
   "execution_count": 90,
   "metadata": {},
   "outputs": [],
   "source": [
    "def accuracy(y, yhat):\n",
    "    \"\"\" Precision for classifier \"\"\"\n",
    "    assert (y.shape == yhat.shape)\n",
    "    return np.sum(y == yhat) * 100.0 / y.size"
   ]
  },
  {
   "cell_type": "code",
   "execution_count": 91,
   "metadata": {},
   "outputs": [
    {
     "name": "stdout",
     "output_type": "stream",
     "text": [
      "训练集准确率 (%): 39.911049\n"
     ]
    }
   ],
   "source": [
    "trainAccuracy = accuracy(trainLabels, pred)\n",
    "print \"训练集准确率 (%%): %f\" % trainAccuracy"
   ]
  },
  {
   "cell_type": "markdown",
   "metadata": {},
   "source": [
    "我们在训练集上得到了39.91%的准确率。接下来在开发集和测试集进行测试。"
   ]
  },
  {
   "cell_type": "code",
   "execution_count": 92,
   "metadata": {},
   "outputs": [
    {
     "name": "stdout",
     "output_type": "stream",
     "text": [
      "开发集准确率 (%): 36.330609\n",
      "测试集准确率 (%): 37.013575\n"
     ]
    }
   ],
   "source": [
    "# 开发集测试\n",
    "pred = clf.predict(devFeatures)\n",
    "devAccuracy = accuracy(devLabels, pred)\n",
    "print \"开发集准确率 (%%): %f\" % devAccuracy\n",
    "\n",
    "# 测试集测试\n",
    "pred = clf.predict(testFeatures)\n",
    "testAccuracy = accuracy(testLabels, pred)\n",
    "print \"测试集准确率 (%%): %f\" % testAccuracy"
   ]
  },
  {
   "cell_type": "markdown",
   "metadata": {},
   "source": [
    "我们再开发集得到了36.33%的准确率，在测试集得到了37.01%的准确率，均比在训练集得到的准确率低，说明我们的算法出现了过拟合。"
   ]
  },
  {
   "cell_type": "markdown",
   "metadata": {},
   "source": [
    "### 模型调参"
   ]
  },
  {
   "cell_type": "markdown",
   "metadata": {},
   "source": [
    "为了得到合适的参数（这里就是正则化参数$\\lambda$），我们将不同的参数代入模型并训练，根据我们的测量标准“准确率”，评判模型性能，进而选择最优参数。"
   ]
  },
  {
   "cell_type": "code",
   "execution_count": 94,
   "metadata": {},
   "outputs": [],
   "source": [
    "results = [] # 用于保存结果数据\n",
    "regValues = getRegularizationValues()\n",
    "#循环测试超参数\n",
    "for reg in regValues:\n",
    "    clf = LogisticRegression(C=1.0 / (reg + 1e-12))\n",
    "    clf.fit(trainFeatures, trainLabels)\n",
    "\n",
    "    # Test on train set\n",
    "    pred = clf.predict(trainFeatures)\n",
    "    trainAccuracy = accuracy(trainLabels, pred)\n",
    "\n",
    "    # Test on dev set\n",
    "    pred = clf.predict(devFeatures)\n",
    "    devAccuracy = accuracy(devLabels, pred)\n",
    "\n",
    "    # Test on test set\n",
    "    # Note: always running on test is poor style. Typically, you should\n",
    "    # do this only after validation.\n",
    "    pred = clf.predict(testFeatures)\n",
    "    testAccuracy = accuracy(testLabels, pred)\n",
    "\n",
    "    results.append({\n",
    "        \"reg\": reg,\n",
    "        \"clf\": clf,\n",
    "        \"train\": trainAccuracy,\n",
    "        \"dev\": devAccuracy,\n",
    "        \"test\": testAccuracy})"
   ]
  },
  {
   "cell_type": "markdown",
   "metadata": {},
   "source": [
    "运行上面的代码，得到超参的结果，并保存在变量results中，我们来看一下结果的形（篇幅原因我们只显示了前10个结果）"
   ]
  },
  {
   "cell_type": "code",
   "execution_count": 99,
   "metadata": {},
   "outputs": [
    {
     "name": "stdout",
     "output_type": "stream",
     "text": [
      "\n",
      "=== Recap ===\n",
      "Reg\t\tTrain\tDev\tTest\n",
      "1.15E-04\t39.876\t36.421\t37.014\n",
      "1.32E-04\t39.911\t36.512\t37.014\n",
      "1.52E-04\t39.911\t36.331\t37.014\n",
      "1.75E-04\t39.911\t36.331\t37.014\n",
      "2.01E-04\t39.899\t36.512\t37.059\n",
      "2.31E-04\t39.923\t36.331\t36.968\n",
      "2.66E-04\t39.911\t36.331\t36.968\n",
      "3.05E-04\t39.958\t36.331\t36.968\n",
      "3.51E-04\t39.958\t36.421\t36.968\n",
      "\n"
     ]
    }
   ],
   "source": [
    "# Print the accuracies\n",
    "print \"\"\n",
    "print \"=== Recap ===\"\n",
    "print \"Reg\\t\\tTrain\\tDev\\tTest\"\n",
    "for result in results[1:10]:\n",
    "    print \"%.2E\\t%.3f\\t%.3f\\t%.3f\" % (\n",
    "        result[\"reg\"],\n",
    "        result[\"train\"],\n",
    "        result[\"dev\"],\n",
    "        result[\"test\"])\n",
    "print \"\""
   ]
  },
  {
   "cell_type": "markdown",
   "metadata": {},
   "source": [
    "以第一条结果为例说明，1.15E-04代表正则项参数，39.876是训练集准确率，36.421是开发集准确率，37.014是测试集准确率。很明显，这一行出现了过拟合。"
   ]
  },
  {
   "cell_type": "markdown",
   "metadata": {},
   "source": [
    "接下来，有了结果，我们就可以选择效果最好的模型参数作为我们的正则项参数，如何选择呢？"
   ]
  },
  {
   "cell_type": "markdown",
   "metadata": {},
   "source": [
    "可以选择模型在开发集上得到最好准确率的参数作为最优参数，注意：不能使用测试集的准确率作为评判标准，因为在现实中，模型确定之前，我们是看不到测试集的。"
   ]
  },
  {
   "cell_type": "code",
   "execution_count": 100,
   "metadata": {},
   "outputs": [],
   "source": [
    "def chooseBestModel(results):\n",
    "    \"\"\"\n",
    "    选择最好的模型\n",
    "    \"\"\"\n",
    "    bestResult = None\n",
    "    bestResult = max(results, key=lambda x: x[\"dev\"])\n",
    "\n",
    "    return bestResult"
   ]
  },
  {
   "cell_type": "code",
   "execution_count": 127,
   "metadata": {},
   "outputs": [
    {
     "name": "stdout",
     "output_type": "stream",
     "text": [
      "最好的正则项参数为：1.23E+01\n",
      "测试集准确率为： (%): 37.556561\n"
     ]
    }
   ],
   "source": [
    "bestResult = chooseBestModel(results)\n",
    "print \"最好的正则项参数为：%0.2E\" % bestResult[\"reg\"]\n",
    "print \"测试集准确率为： (%%): %f\" % bestResult[\"test\"]"
   ]
  },
  {
   "cell_type": "markdown",
   "metadata": {},
   "source": [
    "如果把所有参数和准确率的关系画图展示，可以直观的观察变化趋势。"
   ]
  },
  {
   "cell_type": "code",
   "execution_count": 125,
   "metadata": {},
   "outputs": [],
   "source": [
    "def plotRegVsAccuracy(regValues, results, filename):\n",
    "    \"\"\" Make a plot of regularization vs accuracy \"\"\"\n",
    "    plt.plot(regValues, [x[\"train\"] for x in results])\n",
    "    plt.plot(regValues, [x[\"dev\"] for x in results])\n",
    "    plt.xscale('log')\n",
    "    plt.xlabel('regulazation')\n",
    "    plt.ylabel(\"accuracy\")\n",
    "    plt.legend(['train', 'dev'], loc='upper left')\n",
    "    plt.savefig(filename)"
   ]
  },
  {
   "cell_type": "code",
   "execution_count": 126,
   "metadata": {
    "scrolled": true
   },
   "outputs": [
    {
     "data": {
      "image/png": "[encoded data removed]",
      "text/plain": [
       "<matplotlib.figure.Figure at 0x1a0c7ac150>"
      ]
     },
     "metadata": {},
     "output_type": "display_data"
    }
   ],
   "source": [
    "plotRegVsAccuracy(regValues, results, \"q4_reg_v_acc.png\")"
   ]
  },
  {
   "cell_type": "markdown",
   "metadata": {},
   "source": [
    "上图中蓝色曲线代表开发集的准确率随参数变化的，橘色曲线代表开发集准确率随参数变化的曲线。可见在参数为10左右，开发集达到最好的准确率，这与我们得到的结果：1.23E+01 一致。"
   ]
  },
  {
   "cell_type": "markdown",
   "metadata": {},
   "source": [
    "## 误差分析"
   ]
  },
  {
   "cell_type": "markdown",
   "metadata": {},
   "source": [
    "### 混淆矩阵"
   ]
  },
  {
   "cell_type": "markdown",
   "metadata": {},
   "source": [
    "我们仅得到了37%左右的准确率，说明我们的算法还有很大的改进空间，首先需要采取一种方式观察预测结果，可以使用混淆矩阵的方式。"
   ]
  },
  {
   "cell_type": "code",
   "execution_count": 131,
   "metadata": {},
   "outputs": [],
   "source": [
    "def outputConfusionMatrix(features, labels, clf, filename):\n",
    "    \"\"\" Generate a confusion matrix \"\"\"\n",
    "    pred = clf.predict(features)\n",
    "    cm = confusion_matrix(labels, pred, labels=range(5))\n",
    "    plt.figure()\n",
    "    plt.imshow(cm, interpolation='nearest', cmap=plt.cm.Reds)\n",
    "    plt.colorbar()\n",
    "    classes = [\"- -\", \"-\", \"neut\", \"+\", \"+ +\"]\n",
    "    tick_marks = np.arange(len(classes))\n",
    "    plt.xticks(tick_marks, classes)\n",
    "    plt.yticks(tick_marks, classes)\n",
    "    thresh = cm.max() / 2.\n",
    "    for i, j in itertools.product(range(cm.shape[0]), range(cm.shape[1])):\n",
    "        plt.text(j, i, cm[i, j],\n",
    "                 horizontalalignment=\"center\",\n",
    "                 color=\"white\" if cm[i, j] > thresh else \"black\")\n",
    "    plt.tight_layout()\n",
    "    plt.ylabel('True label')\n",
    "    plt.xlabel('Predicted label')\n",
    "    plt.savefig(filename)"
   ]
  },
  {
   "cell_type": "code",
   "execution_count": 132,
   "metadata": {},
   "outputs": [
    {
     "data": {
      "image/png": "[encoded data removed]",
      "text/plain": [
       "<matplotlib.figure.Figure at 0x1a0d6280d0>"
      ]
     },
     "metadata": {},
     "output_type": "display_data"
    }
   ],
   "source": [
    "outputConfusionMatrix(devFeatures, devLabels, bestResult[\"clf\"],\"q4_dev_conf.png\")"
   ]
  },
  {
   "cell_type": "markdown",
   "metadata": {},
   "source": [
    "混淆矩阵有两个维度，我们首先看第一个维度：y轴，y轴代表语句的真实标签，从0到4（这利用从--到++表示），分别代表从“非常消极”到“非常积极”。同样，x轴代表我们对语句的预测值从--到++，对应方格内的数字代表落在此的分类数量。   \n",
    "举例说明：左上角的方格代表，真实标签为--我们的预测值也是--的句子的数量，为1。第一行第二格代表真实标签是--而我们的预测值是-的句子数量，为97。   \n",
    "所以说，混淆矩阵的对角线上的方格代表预测正确的语句的数量。\n",
    "但是我们的模型预测结果集中在-和+，对于++、--和中立的语句预测效果不好，其中一个原因就是我们利用语句中的词向量的均值代表词句子，导致特别消极与消极之间，以及特别积极与积极之间的差距变小，很难分辨。"
   ]
  },
  {
   "cell_type": "markdown",
   "metadata": {},
   "source": [
    "## 完整代码"
   ]
  },
  {
   "cell_type": "markdown",
   "metadata": {},
   "source": [
    "为了节省篇幅，文章删减了很多代码及注释，主要关注整体编程思路。\n",
    "读者想测试完整代码请[点击这里]()。\n",
    "使用方式：\n",
    "\n",
    "- 点击右侧绿色的‘clone or download’按钮\n",
    "- 下载后的代码在‘sentiment analysis’文件夹中\n",
    "- 通过命令行进入该文件夹后先执行'get_datasets.sh'下载数据\n",
    "- 通过命令行进入该文件夹后执行python q4_sentiment.py\n",
    "\n",
    "注意，全部代码在python2.6下测试通过\n",
    "\n",
    "\n",
    "有任何问题，欢迎留言讨论。"
   ]
  }
 ],
 "metadata": {
  "kernelspec": {
   "display_name": "Python [conda env:py2]",
   "language": "python",
   "name": "conda-env-py2-py"
  },
  "language_info": {
   "codemirror_mode": {
    "name": "ipython",
    "version": 2
   },
   "file_extension": ".py",
   "mimetype": "text/x-python",
   "name": "python",
   "nbconvert_exporter": "python",
   "pygments_lexer": "ipython2",
   "version": "2.7.14"
  }
 },
 "nbformat": 4,
 "nbformat_minor": 2
}
