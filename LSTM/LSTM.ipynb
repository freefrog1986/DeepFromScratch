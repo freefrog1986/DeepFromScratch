{
 "cells": [
  {
   "cell_type": "code",
   "execution_count": 7,
   "metadata": {},
   "outputs": [],
   "source": [
    "import random\n",
    "import numpy as np\n",
    "import math\n",
    "import "
   ]
  },
  {
   "cell_type": "code",
   "execution_count": 139,
   "metadata": {},
   "outputs": [],
   "source": [
    "import random"
   ]
  },
  {
   "cell_type": "code",
   "execution_count": 143,
   "metadata": {},
   "outputs": [],
   "source": [
    "quad = lambda x: (np.sum(x ** 2), x * 2)"
   ]
  },
  {
   "cell_type": "code",
   "execution_count": 151,
   "metadata": {},
   "outputs": [
    {
     "data": {
      "text/plain": [
       "array([[1, 2, 3],\n",
       "       [2, 3, 4]])"
      ]
     },
     "execution_count": 151,
     "metadata": {},
     "output_type": "execute_result"
    }
   ],
   "source": [
    "a = np.array([[1,2,3],[2,3,4]])\n",
    "a"
   ]
  },
  {
   "cell_type": "code",
   "execution_count": 157,
   "metadata": {},
   "outputs": [
    {
     "data": {
      "text/plain": [
       "array([6, 9])"
      ]
     },
     "execution_count": 157,
     "metadata": {},
     "output_type": "execute_result"
    }
   ],
   "source": [
    "np.sum(a, axis = 1)"
   ]
  },
  {
   "cell_type": "code",
   "execution_count": 144,
   "metadata": {},
   "outputs": [
    {
     "data": {
      "text/plain": [
       "array([-1.66417299, -0.12656933, -0.36343778])"
      ]
     },
     "execution_count": 144,
     "metadata": {},
     "output_type": "execute_result"
    }
   ],
   "source": [
    "np.random.randn(3,)"
   ]
  },
  {
   "cell_type": "code",
   "execution_count": 145,
   "metadata": {},
   "outputs": [
    {
     "ename": "NameError",
     "evalue": "name 'gradcheck_naive' is not defined",
     "output_type": "error",
     "traceback": [
      "\u001b[0;31m---------------------------------------------------------------------------\u001b[0m",
      "\u001b[0;31mNameError\u001b[0m                                 Traceback (most recent call last)",
      "\u001b[0;32m<ipython-input-145-8db0bf0986d7>\u001b[0m in \u001b[0;36m<module>\u001b[0;34m()\u001b[0m\n\u001b[0;32m----> 1\u001b[0;31m \u001b[0mgradcheck_naive\u001b[0m\u001b[0;34m(\u001b[0m\u001b[0mquad\u001b[0m\u001b[0;34m,\u001b[0m \u001b[0mnp\u001b[0m\u001b[0;34m.\u001b[0m\u001b[0mrandom\u001b[0m\u001b[0;34m.\u001b[0m\u001b[0mrandn\u001b[0m\u001b[0;34m(\u001b[0m\u001b[0;36m3\u001b[0m\u001b[0;34m,\u001b[0m\u001b[0;34m)\u001b[0m\u001b[0;34m)\u001b[0m\u001b[0;34m\u001b[0m\u001b[0m\n\u001b[0m",
      "\u001b[0;31mNameError\u001b[0m: name 'gradcheck_naive' is not defined"
     ]
    }
   ],
   "source": [
    "gradcheck_naive(quad, np.random.randn(3,)) "
   ]
  },
  {
   "cell_type": "code",
   "execution_count": null,
   "metadata": {},
   "outputs": [],
   "source": []
  },
  {
   "cell_type": "code",
   "execution_count": null,
   "metadata": {},
   "outputs": [],
   "source": []
  },
  {
   "cell_type": "code",
   "execution_count": 142,
   "metadata": {},
   "outputs": [
    {
     "data": {
      "text/plain": [
       "(3,\n",
       " (2147483648,\n",
       "  1436410458,\n",
       "  270803804,\n",
       "  2147636634,\n",
       "  2148224092,\n",
       "  1135766104,\n",
       "  1827825679,\n",
       "  1799616059,\n",
       "  2196190066,\n",
       "  2062687492,\n",
       "  2915089137,\n",
       "  4048978017,\n",
       "  2241308909,\n",
       "  2019289412,\n",
       "  491011790,\n",
       "  279328983,\n",
       "  3528291258,\n",
       "  2507175406,\n",
       "  2325736570,\n",
       "  3126049241,\n",
       "  611342437,\n",
       "  4184221976,\n",
       "  3004158443,\n",
       "  1949789896,\n",
       "  867358609,\n",
       "  1343853161,\n",
       "  4261816889,\n",
       "  1508705461,\n",
       "  1353417216,\n",
       "  861522893,\n",
       "  1189891626,\n",
       "  3558619101,\n",
       "  4081331007,\n",
       "  80899469,\n",
       "  2559323270,\n",
       "  1440426207,\n",
       "  2982405591,\n",
       "  3679121875,\n",
       "  219428089,\n",
       "  1874771825,\n",
       "  3769459308,\n",
       "  3719100634,\n",
       "  2034769342,\n",
       "  863475456,\n",
       "  1835887979,\n",
       "  1861063001,\n",
       "  706575001,\n",
       "  3461734798,\n",
       "  546213280,\n",
       "  51941263,\n",
       "  4264425263,\n",
       "  2386429709,\n",
       "  1027816741,\n",
       "  1475550685,\n",
       "  3929266193,\n",
       "  2484916563,\n",
       "  3311626326,\n",
       "  3967398053,\n",
       "  552031930,\n",
       "  353158596,\n",
       "  2412777824,\n",
       "  1054905861,\n",
       "  3702670871,\n",
       "  1839974738,\n",
       "  3786612062,\n",
       "  1456457410,\n",
       "  3457111839,\n",
       "  1717397918,\n",
       "  3019380148,\n",
       "  2070469797,\n",
       "  2216797990,\n",
       "  343284274,\n",
       "  3442450051,\n",
       "  421481993,\n",
       "  3808275841,\n",
       "  201996053,\n",
       "  119072053,\n",
       "  3673804615,\n",
       "  481141360,\n",
       "  2872883623,\n",
       "  2641312742,\n",
       "  1164245651,\n",
       "  1087135642,\n",
       "  2789126920,\n",
       "  2410531762,\n",
       "  2665365399,\n",
       "  382794864,\n",
       "  4136133343,\n",
       "  1513275680,\n",
       "  4290728473,\n",
       "  3471847579,\n",
       "  2712676791,\n",
       "  1264027495,\n",
       "  2826432580,\n",
       "  3278257891,\n",
       "  3300791693,\n",
       "  953269316,\n",
       "  3223497744,\n",
       "  1152672327,\n",
       "  2898715664,\n",
       "  816104149,\n",
       "  1231988084,\n",
       "  2906701497,\n",
       "  1829125455,\n",
       "  2107574043,\n",
       "  2875831289,\n",
       "  666825377,\n",
       "  3414299614,\n",
       "  4035313725,\n",
       "  2201617258,\n",
       "  4010432971,\n",
       "  1528056111,\n",
       "  2096323930,\n",
       "  2364008947,\n",
       "  560512925,\n",
       "  344160361,\n",
       "  590355266,\n",
       "  267779885,\n",
       "  2716561282,\n",
       "  3458448590,\n",
       "  1375729580,\n",
       "  1679803866,\n",
       "  4118561779,\n",
       "  150869897,\n",
       "  1661174881,\n",
       "  1405505557,\n",
       "  4035986029,\n",
       "  68642457,\n",
       "  2723718117,\n",
       "  1522811687,\n",
       "  2454484410,\n",
       "  1655402261,\n",
       "  1353945274,\n",
       "  1157883488,\n",
       "  2739100596,\n",
       "  547767303,\n",
       "  1223380376,\n",
       "  707892433,\n",
       "  991286986,\n",
       "  972363666,\n",
       "  1127859635,\n",
       "  4144331223,\n",
       "  2510625218,\n",
       "  90595245,\n",
       "  2425346821,\n",
       "  1094792716,\n",
       "  1138220188,\n",
       "  1036835526,\n",
       "  3877345732,\n",
       "  46355705,\n",
       "  90866322,\n",
       "  3456661775,\n",
       "  1058771057,\n",
       "  3258925003,\n",
       "  3870951875,\n",
       "  2326825997,\n",
       "  3131865023,\n",
       "  1749608961,\n",
       "  71063838,\n",
       "  2468027142,\n",
       "  1616848720,\n",
       "  4124988496,\n",
       "  401782218,\n",
       "  1139735800,\n",
       "  4063391691,\n",
       "  1518623594,\n",
       "  3635505562,\n",
       "  2827998495,\n",
       "  236021993,\n",
       "  3921675193,\n",
       "  1064944259,\n",
       "  196307730,\n",
       "  1478699963,\n",
       "  4008607868,\n",
       "  1549192572,\n",
       "  1687959435,\n",
       "  3538868898,\n",
       "  2677660201,\n",
       "  1163252609,\n",
       "  3018208841,\n",
       "  3157966035,\n",
       "  3864034850,\n",
       "  4222066712,\n",
       "  3621668107,\n",
       "  2915904577,\n",
       "  2691729981,\n",
       "  1872766410,\n",
       "  4242183625,\n",
       "  949390765,\n",
       "  85209029,\n",
       "  547435333,\n",
       "  557276673,\n",
       "  3443975870,\n",
       "  2972999327,\n",
       "  4009717558,\n",
       "  1919411596,\n",
       "  4217796908,\n",
       "  943600891,\n",
       "  1479261086,\n",
       "  1655528665,\n",
       "  3011313236,\n",
       "  4015251870,\n",
       "  909525551,\n",
       "  3339931279,\n",
       "  4179363540,\n",
       "  672845701,\n",
       "  3547285413,\n",
       "  2692448113,\n",
       "  3180388327,\n",
       "  1509257092,\n",
       "  1225155368,\n",
       "  2831299251,\n",
       "  3607792650,\n",
       "  794464634,\n",
       "  280774748,\n",
       "  358853197,\n",
       "  3006182647,\n",
       "  57850916,\n",
       "  2747488241,\n",
       "  93923924,\n",
       "  556075543,\n",
       "  3414881950,\n",
       "  3807137450,\n",
       "  2458169308,\n",
       "  2230039484,\n",
       "  3409637246,\n",
       "  756851237,\n",
       "  1858004529,\n",
       "  1932759268,\n",
       "  835033749,\n",
       "  3363384338,\n",
       "  1545227075,\n",
       "  2751472526,\n",
       "  2635045349,\n",
       "  1973204086,\n",
       "  1913585482,\n",
       "  2744231690,\n",
       "  1456203699,\n",
       "  2350163132,\n",
       "  1494730315,\n",
       "  4203065544,\n",
       "  3363730711,\n",
       "  375581954,\n",
       "  1787310603,\n",
       "  3784675054,\n",
       "  3155057752,\n",
       "  1397716464,\n",
       "  3756505841,\n",
       "  3840666825,\n",
       "  205004061,\n",
       "  3446441331,\n",
       "  1209755394,\n",
       "  4101503984,\n",
       "  3144639789,\n",
       "  969378722,\n",
       "  4275238161,\n",
       "  3133249058,\n",
       "  1374519268,\n",
       "  3078459303,\n",
       "  739873349,\n",
       "  2422157032,\n",
       "  4070680947,\n",
       "  1689229435,\n",
       "  3980514586,\n",
       "  565355624,\n",
       "  105142144,\n",
       "  3458249587,\n",
       "  2835820194,\n",
       "  3811588719,\n",
       "  2382582663,\n",
       "  1146850085,\n",
       "  3305982152,\n",
       "  2887619570,\n",
       "  1764393349,\n",
       "  3948361209,\n",
       "  719935416,\n",
       "  2180110258,\n",
       "  3114910512,\n",
       "  2115229776,\n",
       "  305972675,\n",
       "  3396133024,\n",
       "  1999781748,\n",
       "  2031237531,\n",
       "  1176294520,\n",
       "  1513982067,\n",
       "  1309608409,\n",
       "  4132839225,\n",
       "  1052539445,\n",
       "  1648982836,\n",
       "  15991282,\n",
       "  962788137,\n",
       "  601887771,\n",
       "  3265309632,\n",
       "  174773816,\n",
       "  4098569338,\n",
       "  1702532261,\n",
       "  3565061498,\n",
       "  1870139464,\n",
       "  1586558354,\n",
       "  1965831661,\n",
       "  2542827378,\n",
       "  2025459451,\n",
       "  1545031661,\n",
       "  210985434,\n",
       "  3050088145,\n",
       "  3814099195,\n",
       "  2287501839,\n",
       "  1183555056,\n",
       "  3372396720,\n",
       "  3715421362,\n",
       "  784178387,\n",
       "  3159553102,\n",
       "  2327294794,\n",
       "  577106295,\n",
       "  2588599021,\n",
       "  779809147,\n",
       "  988787403,\n",
       "  1424298165,\n",
       "  2404294914,\n",
       "  2898958895,\n",
       "  4288993459,\n",
       "  2580022407,\n",
       "  3948777674,\n",
       "  1925364674,\n",
       "  3965110706,\n",
       "  2305715507,\n",
       "  3850264389,\n",
       "  3137057030,\n",
       "  1000133197,\n",
       "  922013045,\n",
       "  941205460,\n",
       "  3134811799,\n",
       "  3266998581,\n",
       "  694235071,\n",
       "  2328852176,\n",
       "  795256629,\n",
       "  1312680680,\n",
       "  841073399,\n",
       "  3622179342,\n",
       "  1656007894,\n",
       "  3814714556,\n",
       "  3439674877,\n",
       "  2673105338,\n",
       "  1453331950,\n",
       "  4252036351,\n",
       "  592623492,\n",
       "  2660279988,\n",
       "  1167120262,\n",
       "  728312024,\n",
       "  3052496067,\n",
       "  2496719971,\n",
       "  103256952,\n",
       "  4128131981,\n",
       "  2071350658,\n",
       "  425935893,\n",
       "  3164085557,\n",
       "  422891105,\n",
       "  2614010328,\n",
       "  763174344,\n",
       "  2035687145,\n",
       "  3896761123,\n",
       "  1342471247,\n",
       "  2477094997,\n",
       "  3297253895,\n",
       "  650469471,\n",
       "  1249504705,\n",
       "  2348008560,\n",
       "  3250612457,\n",
       "  1434658241,\n",
       "  3096099069,\n",
       "  1081903378,\n",
       "  2167836445,\n",
       "  4130370254,\n",
       "  2201566980,\n",
       "  1867476131,\n",
       "  1474738664,\n",
       "  3169086224,\n",
       "  3355764490,\n",
       "  1042892564,\n",
       "  52875628,\n",
       "  2171702943,\n",
       "  1336730808,\n",
       "  404122755,\n",
       "  2467345717,\n",
       "  1224172306,\n",
       "  3837610793,\n",
       "  1620352559,\n",
       "  3017742712,\n",
       "  3677369786,\n",
       "  2270409275,\n",
       "  3524890527,\n",
       "  1914100028,\n",
       "  1972303112,\n",
       "  212814905,\n",
       "  1086223107,\n",
       "  1157146699,\n",
       "  2113005623,\n",
       "  1592464808,\n",
       "  3328658515,\n",
       "  1623750146,\n",
       "  4095640612,\n",
       "  989016757,\n",
       "  819062856,\n",
       "  4087558296,\n",
       "  953539137,\n",
       "  1831724759,\n",
       "  3099472826,\n",
       "  490118847,\n",
       "  2562265943,\n",
       "  2192249296,\n",
       "  501732331,\n",
       "  376214183,\n",
       "  1656046896,\n",
       "  690552829,\n",
       "  2601505077,\n",
       "  2941542169,\n",
       "  2878086934,\n",
       "  1273628947,\n",
       "  1925364226,\n",
       "  1419195368,\n",
       "  3245187354,\n",
       "  1206963636,\n",
       "  3790994512,\n",
       "  3341190655,\n",
       "  2259533412,\n",
       "  709589420,\n",
       "  1041984663,\n",
       "  1918389137,\n",
       "  3593276604,\n",
       "  2109505950,\n",
       "  57637336,\n",
       "  3860564766,\n",
       "  1352554746,\n",
       "  2460174999,\n",
       "  450323405,\n",
       "  1967267449,\n",
       "  4190859807,\n",
       "  1044679409,\n",
       "  1848043081,\n",
       "  116437029,\n",
       "  4097486283,\n",
       "  4047260653,\n",
       "  875832018,\n",
       "  2664044112,\n",
       "  784775316,\n",
       "  1352406774,\n",
       "  934215,\n",
       "  2086666492,\n",
       "  2419681081,\n",
       "  2744577611,\n",
       "  2237758461,\n",
       "  2865955365,\n",
       "  4280408427,\n",
       "  106331612,\n",
       "  1498523762,\n",
       "  2249880628,\n",
       "  1211095591,\n",
       "  2872172039,\n",
       "  2183468906,\n",
       "  4186150166,\n",
       "  2196460335,\n",
       "  4003282720,\n",
       "  53879865,\n",
       "  1127270744,\n",
       "  1547034812,\n",
       "  1274066932,\n",
       "  3284069994,\n",
       "  2158792166,\n",
       "  3439306697,\n",
       "  3931997337,\n",
       "  1060211963,\n",
       "  2034159520,\n",
       "  509555050,\n",
       "  3692204012,\n",
       "  3414773593,\n",
       "  2385052502,\n",
       "  1211203405,\n",
       "  306081504,\n",
       "  2511473516,\n",
       "  30207900,\n",
       "  3298260662,\n",
       "  2410431293,\n",
       "  4156770980,\n",
       "  256033986,\n",
       "  1718319477,\n",
       "  2240239534,\n",
       "  2546266014,\n",
       "  2349247473,\n",
       "  283861434,\n",
       "  860426978,\n",
       "  4090858945,\n",
       "  2243757668,\n",
       "  89246352,\n",
       "  3249748666,\n",
       "  562658569,\n",
       "  76159498,\n",
       "  1910122626,\n",
       "  2952742721,\n",
       "  3419901678,\n",
       "  279963811,\n",
       "  3136304314,\n",
       "  4100280084,\n",
       "  4099564896,\n",
       "  4149081923,\n",
       "  603334017,\n",
       "  1133006759,\n",
       "  1127349673,\n",
       "  3101411302,\n",
       "  2369823088,\n",
       "  3751413513,\n",
       "  179971630,\n",
       "  756566173,\n",
       "  856387417,\n",
       "  3022735306,\n",
       "  2493787403,\n",
       "  853212008,\n",
       "  605455113,\n",
       "  2161181045,\n",
       "  1882275966,\n",
       "  960897203,\n",
       "  17810230,\n",
       "  1336811609,\n",
       "  2635285802,\n",
       "  3196699090,\n",
       "  2610528027,\n",
       "  1731448718,\n",
       "  1295276557,\n",
       "  1686328546,\n",
       "  2003232945,\n",
       "  2791762953,\n",
       "  2595330781,\n",
       "  2815773534,\n",
       "  252840857,\n",
       "  3746214035,\n",
       "  3063736020,\n",
       "  2009333941,\n",
       "  2762245065,\n",
       "  761234040,\n",
       "  2778255534,\n",
       "  1364364927,\n",
       "  2742877636,\n",
       "  2908528956,\n",
       "  59827505,\n",
       "  953433240,\n",
       "  3916042353,\n",
       "  1391976138,\n",
       "  1406302841,\n",
       "  1288960513,\n",
       "  263954170,\n",
       "  707432533,\n",
       "  1215203806,\n",
       "  3042610792,\n",
       "  78818695,\n",
       "  1849583671,\n",
       "  2518423112,\n",
       "  1077125663,\n",
       "  907101233,\n",
       "  583299315,\n",
       "  277782403,\n",
       "  2779574727,\n",
       "  1522980260,\n",
       "  625097372,\n",
       "  291291727,\n",
       "  2774312533,\n",
       "  701340694,\n",
       "  3549544639,\n",
       "  1658895899,\n",
       "  3209782552,\n",
       "  517362193,\n",
       "  871422651,\n",
       "  3267518229,\n",
       "  3561175725,\n",
       "  3853013607,\n",
       "  2342405970,\n",
       "  2775681815,\n",
       "  939938161,\n",
       "  1066760132,\n",
       "  3689015658,\n",
       "  451899558,\n",
       "  2654250268,\n",
       "  3418585228,\n",
       "  3616198677,\n",
       "  352887271,\n",
       "  1003290262,\n",
       "  2033625007,\n",
       "  2939187624,\n",
       "  2544107359,\n",
       "  3923433221,\n",
       "  544378525,\n",
       "  3667677759,\n",
       "  2677372169,\n",
       "  4249642410,\n",
       "  3485313,\n",
       "  2460302855,\n",
       "  2378633809,\n",
       "  2957413018,\n",
       "  3982344841,\n",
       "  2185746324,\n",
       "  51931084,\n",
       "  1658448533,\n",
       "  2772153298,\n",
       "  3519046301,\n",
       "  1586372849,\n",
       "  2049685966,\n",
       "  2536250883,\n",
       "  949745990,\n",
       "  2217478940,\n",
       "  1978854791,\n",
       "  2702566411,\n",
       "  3513954603,\n",
       "  622986243,\n",
       "  66367771,\n",
       "  2807108677,\n",
       "  1341804157,\n",
       "  2613134348,\n",
       "  235200684,\n",
       "  4013925642,\n",
       "  2598823741,\n",
       "  3796854477,\n",
       "  4154438144,\n",
       "  3198682138,\n",
       "  17439558,\n",
       "  1510434838,\n",
       "  2107179680,\n",
       "  624),\n",
       " None)"
      ]
     },
     "execution_count": 142,
     "metadata": {},
     "output_type": "execute_result"
    }
   ],
   "source": [
    "rndstate = random.getstate()\n",
    "rndstate"
   ]
  },
  {
   "cell_type": "code",
   "execution_count": null,
   "metadata": {},
   "outputs": [],
   "source": []
  },
  {
   "cell_type": "code",
   "execution_count": 8,
   "metadata": {},
   "outputs": [],
   "source": [
    "def sigmoid(x): \n",
    "    return 1. / (1 + np.exp(-x))"
   ]
  },
  {
   "cell_type": "code",
   "execution_count": 9,
   "metadata": {},
   "outputs": [],
   "source": [
    "def sigmoid_derivative(values): \n",
    "    return values*(1-values)"
   ]
  },
  {
   "cell_type": "code",
   "execution_count": 10,
   "metadata": {},
   "outputs": [],
   "source": [
    "def tanh_derivative(values): \n",
    "    return 1. - values ** 2"
   ]
  },
  {
   "cell_type": "code",
   "execution_count": 11,
   "metadata": {},
   "outputs": [],
   "source": [
    "# createst uniform random array w/ values in [a,b) and shape args\n",
    "def rand_arr(a, b, *args): \n",
    "    np.random.seed(0)\n",
    "    return np.random.rand(*args) * (b - a) + a"
   ]
  },
  {
   "cell_type": "code",
   "execution_count": 12,
   "metadata": {},
   "outputs": [],
   "source": [
    "class LstmParam:\n",
    "    def __init__(self, mem_cell_ct, x_dim):\n",
    "        self.mem_cell_ct = mem_cell_ct\n",
    "        self.x_dim = x_dim\n",
    "        concat_len = x_dim + mem_cell_ct\n",
    "        # weight matrices\n",
    "        self.wg = rand_arr(-0.1, 0.1, mem_cell_ct, concat_len)\n",
    "        self.wi = rand_arr(-0.1, 0.1, mem_cell_ct, concat_len) \n",
    "        self.wf = rand_arr(-0.1, 0.1, mem_cell_ct, concat_len)\n",
    "        self.wo = rand_arr(-0.1, 0.1, mem_cell_ct, concat_len)\n",
    "        # bias terms\n",
    "        self.bg = rand_arr(-0.1, 0.1, mem_cell_ct) \n",
    "        self.bi = rand_arr(-0.1, 0.1, mem_cell_ct) \n",
    "        self.bf = rand_arr(-0.1, 0.1, mem_cell_ct) \n",
    "        self.bo = rand_arr(-0.1, 0.1, mem_cell_ct) \n",
    "        # diffs (derivative of loss function w.r.t. all parameters)\n",
    "        self.wg_diff = np.zeros((mem_cell_ct, concat_len)) \n",
    "        self.wi_diff = np.zeros((mem_cell_ct, concat_len)) \n",
    "        self.wf_diff = np.zeros((mem_cell_ct, concat_len)) \n",
    "        self.wo_diff = np.zeros((mem_cell_ct, concat_len)) \n",
    "        self.bg_diff = np.zeros(mem_cell_ct) \n",
    "        self.bi_diff = np.zeros(mem_cell_ct) \n",
    "        self.bf_diff = np.zeros(mem_cell_ct) \n",
    "        self.bo_diff = np.zeros(mem_cell_ct) \n",
    "\n",
    "    def apply_diff(self, lr = 1):\n",
    "        self.wg -= lr * self.wg_diff\n",
    "        self.wi -= lr * self.wi_diff\n",
    "        self.wf -= lr * self.wf_diff\n",
    "        self.wo -= lr * self.wo_diff\n",
    "        self.bg -= lr * self.bg_diff\n",
    "        self.bi -= lr * self.bi_diff\n",
    "        self.bf -= lr * self.bf_diff\n",
    "        self.bo -= lr * self.bo_diff\n",
    "        # reset diffs to zero\n",
    "        self.wg_diff = np.zeros_like(self.wg)\n",
    "        self.wi_diff = np.zeros_like(self.wi) \n",
    "        self.wf_diff = np.zeros_like(self.wf) \n",
    "        self.wo_diff = np.zeros_like(self.wo) \n",
    "        self.bg_diff = np.zeros_like(self.bg)\n",
    "        self.bi_diff = np.zeros_like(self.bi) \n",
    "        self.bf_diff = np.zeros_like(self.bf) \n",
    "        self.bo_diff = np.zeros_like(self.bo) "
   ]
  },
  {
   "cell_type": "code",
   "execution_count": 13,
   "metadata": {},
   "outputs": [],
   "source": [
    "class LstmState:\n",
    "    def __init__(self, mem_cell_ct, x_dim):\n",
    "        self.g = np.zeros(mem_cell_ct)\n",
    "        self.i = np.zeros(mem_cell_ct)\n",
    "        self.f = np.zeros(mem_cell_ct)\n",
    "        self.o = np.zeros(mem_cell_ct)\n",
    "        self.s = np.zeros(mem_cell_ct)\n",
    "        self.h = np.zeros(mem_cell_ct)\n",
    "        self.bottom_diff_h = np.zeros_like(self.h)\n",
    "        self.bottom_diff_s = np.zeros_like(self.s)"
   ]
  },
  {
   "cell_type": "code",
   "execution_count": 14,
   "metadata": {},
   "outputs": [],
   "source": [
    "class LstmNode:\n",
    "    def __init__(self, lstm_param, lstm_state):\n",
    "        # store reference to parameters and to activations\n",
    "        self.state = lstm_state\n",
    "        self.param = lstm_param\n",
    "        # non-recurrent input concatenated with recurrent input\n",
    "        self.xc = None\n",
    "    def bottom_data_is(self, x, s_prev = None, h_prev = None):\n",
    "        # if this is the first lstm node in the network\n",
    "        if s_prev is None: s_prev = np.zeros_like(self.state.s)\n",
    "        if h_prev is None: h_prev = np.zeros_like(self.state.h)\n",
    "        # save data for use in backprop\n",
    "        self.s_prev = s_prev\n",
    "        self.h_prev = h_prev\n",
    "\n",
    "        # concatenate x(t) and h(t-1)\n",
    "        xc = np.hstack((x,  h_prev))\n",
    "        self.state.g = np.tanh(np.dot(self.param.wg, xc) + self.param.bg)\n",
    "        self.state.i = sigmoid(np.dot(self.param.wi, xc) + self.param.bi)\n",
    "        self.state.f = sigmoid(np.dot(self.param.wf, xc) + self.param.bf)\n",
    "        self.state.o = sigmoid(np.dot(self.param.wo, xc) + self.param.bo)\n",
    "        self.state.s = self.state.g * self.state.i + s_prev * self.state.f\n",
    "        self.state.h = self.state.s * self.state.o\n",
    "\n",
    "        self.xc = xc\n",
    "    \n",
    "    def top_diff_is(self, top_diff_h, top_diff_s):\n",
    "        # notice that top_diff_s is carried along the constant error carousel\n",
    "        ds = self.state.o * top_diff_h + top_diff_s\n",
    "        do = self.state.s * top_diff_h\n",
    "        di = self.state.g * ds\n",
    "        dg = self.state.i * ds\n",
    "        df = self.s_prev * ds\n",
    "\n",
    "        # diffs w.r.t. vector inside sigma / tanh function\n",
    "        di_input = sigmoid_derivative(self.state.i) * di \n",
    "        df_input = sigmoid_derivative(self.state.f) * df \n",
    "        do_input = sigmoid_derivative(self.state.o) * do \n",
    "        dg_input = tanh_derivative(self.state.g) * dg\n",
    "\n",
    "        # diffs w.r.t. inputs\n",
    "        self.param.wi_diff += np.outer(di_input, self.xc)\n",
    "        self.param.wf_diff += np.outer(df_input, self.xc)\n",
    "        self.param.wo_diff += np.outer(do_input, self.xc)\n",
    "        self.param.wg_diff += np.outer(dg_input, self.xc)\n",
    "        self.param.bi_diff += di_input\n",
    "        self.param.bf_diff += df_input       \n",
    "        self.param.bo_diff += do_input\n",
    "        self.param.bg_diff += dg_input       \n",
    "\n",
    "        # compute bottom diff\n",
    "        dxc = np.zeros_like(self.xc)\n",
    "        dxc += np.dot(self.param.wi.T, di_input)\n",
    "        dxc += np.dot(self.param.wf.T, df_input)\n",
    "        dxc += np.dot(self.param.wo.T, do_input)\n",
    "        dxc += np.dot(self.param.wg.T, dg_input)\n",
    "\n",
    "        # save bottom diffs\n",
    "        self.state.bottom_diff_s = ds * self.state.f\n",
    "        self.state.bottom_diff_h = dxc[self.param.x_dim:]"
   ]
  },
  {
   "cell_type": "code",
   "execution_count": 134,
   "metadata": {},
   "outputs": [],
   "source": [
    "class LstmNetwork():\n",
    "    def __init__(self, lstm_param):\n",
    "        self.lstm_param = lstm_param\n",
    "        self.lstm_node_list = []\n",
    "        # input sequence\n",
    "        self.x_list = []\n",
    "\n",
    "    def y_list_is(self, y_list, loss_layer):\n",
    "        \"\"\"\n",
    "        Updates diffs by setting target sequence \n",
    "        with corresponding loss layer. \n",
    "        Will *NOT* update parameters.  To update parameters,\n",
    "        call self.lstm_param.apply_diff()\n",
    "        \"\"\"\n",
    "        assert len(y_list) == len(self.x_list)\n",
    "        idx = len(self.x_list) - 1\n",
    "        # first node only gets diffs from label ...\n",
    "        loss = loss_layer.loss(self.lstm_node_list[idx].state.h, y_list[idx])\n",
    "        diff_h = loss_layer.bottom_diff(self.lstm_node_list[idx].state.h, y_list[idx])\n",
    "        # here s is not affecting loss due to h(t+1), hence we set equal to zero\n",
    "        diff_s = np.zeros(self.lstm_param.mem_cell_ct)\n",
    "        self.lstm_node_list[idx].top_diff_is(diff_h, diff_s)\n",
    "        idx -= 1\n",
    "\n",
    "        ### ... following nodes also get diffs from next nodes, hence we add diffs to diff_h\n",
    "        ### we also propagate error along constant error carousel using diff_s\n",
    "        while idx >= 0:\n",
    "            loss += loss_layer.loss(self.lstm_node_list[idx].state.h, y_list[idx])\n",
    "            diff_h = loss_layer.bottom_diff(self.lstm_node_list[idx].state.h, y_list[idx])\n",
    "            diff_h += self.lstm_node_list[idx + 1].state.bottom_diff_h\n",
    "            diff_s = self.lstm_node_list[idx + 1].state.bottom_diff_s\n",
    "            self.lstm_node_list[idx].top_diff_is(diff_h, diff_s)\n",
    "            idx -= 1 \n",
    "\n",
    "        return loss\n",
    "\n",
    "    def x_list_clear(self):\n",
    "        self.x_list = []\n",
    "\n",
    "    def x_list_add(self, x):\n",
    "        self.x_list.append(x)\n",
    "        if len(self.x_list) > len(self.lstm_node_list):\n",
    "            # need to add new lstm node, create new state mem\n",
    "            lstm_state = LstmState(self.lstm_param.mem_cell_ct, self.lstm_param.x_dim)\n",
    "            print(lstm_state.h)\n",
    "            self.lstm_node_list.append(LstmNode(self.lstm_param, lstm_state))\n",
    "\n",
    "        # get index of most recent x input\n",
    "        idx = len(self.x_list) - 1\n",
    "        if idx == 0:\n",
    "            # no recurrent inputs yet\n",
    "            self.lstm_node_list[idx].bottom_data_is(x)\n",
    "        else:\n",
    "            s_prev = self.lstm_node_list[idx - 1].state.s\n",
    "            h_prev = self.lstm_node_list[idx - 1].state.h\n",
    "            self.lstm_node_list[idx].bottom_data_is(x, s_prev, h_prev)\n"
   ]
  },
  {
   "cell_type": "code",
   "execution_count": 16,
   "metadata": {},
   "outputs": [],
   "source": [
    "import numpy as np\n",
    "from lstm import LstmParam,LstmNetwork"
   ]
  },
  {
   "cell_type": "code",
   "execution_count": 17,
   "metadata": {},
   "outputs": [],
   "source": [
    "class ToyLossLayer:\n",
    "    \"\"\"\n",
    "    Computes square loss with first element of hidden layer array.\n",
    "    \"\"\"\n",
    "    @classmethod\n",
    "    def loss(self, pred, label):\n",
    "        return (pred[0] - label) ** 2\n",
    "\n",
    "    @classmethod\n",
    "    def bottom_diff(self, pred, label):\n",
    "        diff = np.zeros_like(pred)\n",
    "        diff[0] = 2 * (pred[0] - label)\n",
    "        return diff"
   ]
  },
  {
   "cell_type": "code",
   "execution_count": 18,
   "metadata": {},
   "outputs": [],
   "source": [
    "def example_0():\n",
    "    # learns to repeat simple sequence from random inputs\n",
    "    np.random.seed(0)\n",
    "\n",
    "    # parameters for input data dimension and lstm cell count\n",
    "    mem_cell_ct = 100\n",
    "    x_dim = 50\n",
    "    lstm_param = LstmParam(mem_cell_ct, x_dim)\n",
    "    lstm_net = LstmNetwork(lstm_param)\n",
    "    y_list = [-0.5, 0.2, 0.1, -0.5]\n",
    "    input_val_arr = [np.random.random(x_dim) for _ in y_list]\n",
    "\n",
    "    for cur_iter in range(100):\n",
    "        print(\"iter\", \"%2s\" % str(cur_iter), end=\": \")\n",
    "        for ind in range(len(y_list)):\n",
    "            lstm_net.x_list_add(input_val_arr[ind])\n",
    "\n",
    "        print(\"y_pred = [\" +\n",
    "              \", \".join([\"% 2.5f\" % lstm_net.lstm_node_list[ind].state.h[0] for ind in range(len(y_list))]) +\n",
    "              \"]\", end=\", \")\n",
    "\n",
    "        loss = lstm_net.y_list_is(y_list, ToyLossLayer)\n",
    "        print(\"loss:\", \"%.3e\" % loss)\n",
    "        lstm_param.apply_diff(lr=0.1)\n",
    "        lstm_net.x_list_clear()"
   ]
  },
  {
   "cell_type": "code",
   "execution_count": 56,
   "metadata": {},
   "outputs": [
    {
     "name": "stdout",
     "output_type": "stream",
     "text": [
      "Number of cell is 100\n",
      "Dimension of input is 50\n",
      "Shape of wg is (100, 150)\n",
      "Shape of wi is (100, 150)\n",
      "Shape of wf is (100, 150)\n",
      "Shape of wo is (100, 150)\n",
      "Shape of bg is (100,)\n",
      "Shape of bi is (100,)\n",
      "Shape of bf is (100,)\n",
      "Shape of bo is (100,)\n",
      "Shape of wg_diff is (100, 150)\n",
      "Shape of wi_diff is (100, 150)\n",
      "Shape of wf_diff is (100, 150)\n",
      "Shape of wo_diff is (100, 150)\n",
      "Shape of bg_diff is (100,)\n",
      "Shape of bi_diff is (100,)\n",
      "Shape of bf_diff is (100,)\n",
      "Shape of bo_diff is (100,)\n"
     ]
    }
   ],
   "source": [
    "mem_cell_ct = 100\n",
    "x_dim = 50\n",
    "lstm_param = LstmParam(mem_cell_ct, x_dim)\n",
    "\n",
    "print('Number of cell is',mem_cell_ct)\n",
    "print('Dimension of input is',x_dim)\n",
    "\n",
    "print('Shape of wg is',np.shape(lstm_param.wg))\n",
    "print('Shape of wi is',np.shape(lstm_param.wi))\n",
    "print('Shape of wf is',np.shape(lstm_param.wf))\n",
    "print('Shape of wo is',np.shape(lstm_param.wo))\n",
    "\n",
    "print('Shape of bg is',np.shape(lstm_param.bg))\n",
    "print('Shape of bi is',np.shape(lstm_param.bi))\n",
    "print('Shape of bf is',np.shape(lstm_param.bf))\n",
    "print('Shape of bo is',np.shape(lstm_param.bo))\n",
    "\n",
    "print('Shape of wg_diff is',np.shape(lstm_param.wg_diff))\n",
    "print('Shape of wi_diff is',np.shape(lstm_param.wi_diff))\n",
    "print('Shape of wf_diff is',np.shape(lstm_param.wf_diff))\n",
    "print('Shape of wo_diff is',np.shape(lstm_param.wo_diff))\n",
    "\n",
    "print('Shape of bg_diff is',np.shape(lstm_param.bg_diff))\n",
    "print('Shape of bi_diff is',np.shape(lstm_param.bi_diff))\n",
    "print('Shape of bf_diff is',np.shape(lstm_param.bf_diff))\n",
    "print('Shape of bo_diff is',np.shape(lstm_param.bo_diff))"
   ]
  },
  {
   "cell_type": "code",
   "execution_count": 128,
   "metadata": {},
   "outputs": [
    {
     "data": {
      "text/plain": [
       "[]"
      ]
     },
     "execution_count": 128,
     "metadata": {},
     "output_type": "execute_result"
    }
   ],
   "source": [
    "lstm_net = LstmNetwork(lstm_param)\n",
    "lstm_net.lstm_node_list"
   ]
  },
  {
   "cell_type": "code",
   "execution_count": 129,
   "metadata": {},
   "outputs": [
    {
     "data": {
      "text/plain": [
       "0"
      ]
     },
     "execution_count": 129,
     "metadata": {},
     "output_type": "execute_result"
    }
   ],
   "source": [
    "len(lstm_net.lstm_node_list)"
   ]
  },
  {
   "cell_type": "code",
   "execution_count": 130,
   "metadata": {},
   "outputs": [
    {
     "data": {
      "text/plain": [
       "[]"
      ]
     },
     "execution_count": 130,
     "metadata": {},
     "output_type": "execute_result"
    }
   ],
   "source": [
    "lstm_net.x_list"
   ]
  },
  {
   "cell_type": "code",
   "execution_count": 132,
   "metadata": {},
   "outputs": [],
   "source": [
    "y_list = [-0.5, 0.2, 0.1, -0.5]"
   ]
  },
  {
   "cell_type": "code",
   "execution_count": 133,
   "metadata": {},
   "outputs": [
    {
     "data": {
      "text/plain": [
       "(4, 50)"
      ]
     },
     "execution_count": 133,
     "metadata": {},
     "output_type": "execute_result"
    }
   ],
   "source": [
    "input_val_arr = [np.random.random(x_dim) for _ in y_list]\n",
    "np.shape(input_val_arr)"
   ]
  },
  {
   "cell_type": "code",
   "execution_count": 135,
   "metadata": {},
   "outputs": [],
   "source": [
    "lstm_net.x_list_add(input_val_arr[0])"
   ]
  },
  {
   "cell_type": "code",
   "execution_count": 136,
   "metadata": {},
   "outputs": [
    {
     "data": {
      "text/plain": [
       "1"
      ]
     },
     "execution_count": 136,
     "metadata": {},
     "output_type": "execute_result"
    }
   ],
   "source": [
    "len(lstm_net.x_list)"
   ]
  },
  {
   "cell_type": "code",
   "execution_count": 137,
   "metadata": {},
   "outputs": [
    {
     "data": {
      "text/plain": [
       "[<lstm.LstmNode at 0x1151c6208>]"
      ]
     },
     "execution_count": 137,
     "metadata": {},
     "output_type": "execute_result"
    }
   ],
   "source": [
    "lstm_net.lstm_node_list"
   ]
  },
  {
   "cell_type": "code",
   "execution_count": 138,
   "metadata": {},
   "outputs": [
    {
     "data": {
      "text/plain": [
       "array([ 0.01738188, -0.008332  , -0.06584833,  0.02343224,  0.00613621,\n",
       "        0.00050119, -0.0326001 , -0.04183327, -0.01478104,  0.0403268 ,\n",
       "        0.09509385, -0.04515467,  0.11344356,  0.04130644, -0.06479724,\n",
       "        0.01616473, -0.02901481, -0.02486891, -0.03781047,  0.08279321,\n",
       "        0.01321319, -0.04145167,  0.02760036,  0.0103368 , -0.05075837,\n",
       "        0.16915936, -0.06728949,  0.00982914,  0.19769348, -0.02076124,\n",
       "       -0.03506644, -0.05793739,  0.00145878, -0.06344969, -0.03127233,\n",
       "        0.09343004,  0.08725885,  0.07332262, -0.04414092, -0.05023508,\n",
       "        0.09465628,  0.04262281,  0.00294111, -0.04238227, -0.06565515,\n",
       "        0.14525706, -0.05345602,  0.04636952, -0.01923774,  0.10335337,\n",
       "       -0.05383628, -0.04118786,  0.17998834,  0.02031099,  0.05047418,\n",
       "       -0.03693532,  0.13210225,  0.0184269 ,  0.08767573, -0.02632053,\n",
       "        0.00156274,  0.03508814,  0.10492902, -0.04816728,  0.01140923,\n",
       "        0.20003025,  0.00797456, -0.03519422,  0.00392615, -0.06739109,\n",
       "       -0.02672893, -0.0662586 ,  0.0906721 ,  0.01026718,  0.05321439,\n",
       "        0.10782069, -0.03034028, -0.02839204, -0.05223546,  0.00236384,\n",
       "        0.17244981, -0.06649917, -0.0407848 ,  0.00559565,  0.14382623,\n",
       "        0.03381008,  0.22484954, -0.01708664, -0.05729132, -0.02124932,\n",
       "       -0.04603626, -0.05539822,  0.02601394,  0.28645949, -0.03841417,\n",
       "       -0.06443861, -0.05959845, -0.06485379,  0.01818055,  0.16537097])"
      ]
     },
     "execution_count": 138,
     "metadata": {},
     "output_type": "execute_result"
    }
   ],
   "source": [
    "lstm_net.lstm_node_list[0].state.h"
   ]
  },
  {
   "cell_type": "code",
   "execution_count": null,
   "metadata": {},
   "outputs": [],
   "source": []
  },
  {
   "cell_type": "code",
   "execution_count": null,
   "metadata": {},
   "outputs": [],
   "source": []
  },
  {
   "cell_type": "code",
   "execution_count": null,
   "metadata": {},
   "outputs": [],
   "source": []
  },
  {
   "cell_type": "code",
   "execution_count": 105,
   "metadata": {},
   "outputs": [
    {
     "name": "stdout",
     "output_type": "stream",
     "text": [
      "(1, 50)\n",
      "(2, 50)\n",
      "(3, 50)\n",
      "(4, 50)\n"
     ]
    }
   ],
   "source": [
    "for ind in range(len(y_list)):\n",
    "    lstm_net.x_list_add(input_val_arr[ind])\n",
    "    print(np.shape(lstm_net.x_list))"
   ]
  },
  {
   "cell_type": "code",
   "execution_count": 109,
   "metadata": {},
   "outputs": [
    {
     "data": {
      "text/plain": [
       "[<lstm.LstmNode at 0x115190cf8>,\n",
       " <lstm.LstmNode at 0x115190320>,\n",
       " <lstm.LstmNode at 0x1151900f0>,\n",
       " <lstm.LstmNode at 0x1151b4080>]"
      ]
     },
     "execution_count": 109,
     "metadata": {},
     "output_type": "execute_result"
    }
   ],
   "source": [
    "lstm_net.lstm_node_list"
   ]
  },
  {
   "cell_type": "code",
   "execution_count": 110,
   "metadata": {},
   "outputs": [
    {
     "name": "stdout",
     "output_type": "stream",
     "text": [
      "y_pred = [ 0.03019,  0.07607,  0.09577,  0.07669], "
     ]
    }
   ],
   "source": [
    "print(\"y_pred = [\" +\n",
    "              \", \".join([\"% 2.5f\" % lstm_net.lstm_node_list[ind].state.h[0] for ind in range(len(y_list))]) +\n",
    "              \"]\", end=\", \")"
   ]
  },
  {
   "cell_type": "code",
   "execution_count": 113,
   "metadata": {},
   "outputs": [
    {
     "data": {
      "text/plain": [
       "0.076069967106704467"
      ]
     },
     "execution_count": 113,
     "metadata": {},
     "output_type": "execute_result"
    }
   ],
   "source": [
    "lstm_net.lstm_node_list[1].state.h[0]"
   ]
  },
  {
   "cell_type": "code",
   "execution_count": 115,
   "metadata": {},
   "outputs": [
    {
     "data": {
      "text/plain": [
       "(50,)"
      ]
     },
     "execution_count": 115,
     "metadata": {},
     "output_type": "execute_result"
    }
   ],
   "source": [
    "np.shape(input_val_arr[0])"
   ]
  },
  {
   "cell_type": "code",
   "execution_count": null,
   "metadata": {},
   "outputs": [],
   "source": []
  }
 ],
 "metadata": {
  "kernelspec": {
   "display_name": "Python [conda root]",
   "language": "python",
   "name": "conda-root-py"
  },
  "language_info": {
   "codemirror_mode": {
    "name": "ipython",
    "version": 3
   },
   "file_extension": ".py",
   "mimetype": "text/x-python",
   "name": "python",
   "nbconvert_exporter": "python",
   "pygments_lexer": "ipython3",
   "version": "3.5.4"
  }
 },
 "nbformat": 4,
 "nbformat_minor": 2
}
